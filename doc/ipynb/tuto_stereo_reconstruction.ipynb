{
 "cells": [
  {
   "cell_type": "markdown",
   "metadata": {},
   "source": [
    "# Stereo Reconstruction with Direct Calibration"
   ]
  },
  {
   "cell_type": "code",
   "execution_count": null,
   "metadata": {},
   "outputs": [],
   "source": [
    "import os\n",
    "import fluidimage\n",
    "path_repository = os.path.split(os.path.dirname(fluidimage.__file__))[0]"
   ]
  },
  {
   "cell_type": "markdown",
   "metadata": {},
   "source": [
    "We first import the class "
   ]
  },
  {
   "cell_type": "code",
   "execution_count": null,
   "metadata": {},
   "outputs": [],
   "source": [
    "import h5py\n",
    "from fluidimage.calibration import DirectStereoReconstruction\n",
    "from fluidimage.calibration.util import get_plane_equation"
   ]
  },
  {
   "cell_type": "markdown",
   "metadata": {},
   "source": [
    "Get the 2 PIV fields"
   ]
  },
  {
   "cell_type": "code",
   "execution_count": null,
   "metadata": {},
   "outputs": [],
   "source": [
    "def get_piv_field(path):\n",
    "\n",
    "    try:\n",
    "        with h5py.File(path, 'r') as f:\n",
    "            keyspiv = [key for key in f.keys() if key.startswith('piv')]\n",
    "            keyspiv.sort()\n",
    "            key = keyspiv[-1]\n",
    "            X = f[key]['xs'].value\n",
    "            Y = f[key]['ys'].value\n",
    "            dx = f[key]['deltaxs_final'].value\n",
    "            dy = f[key]['deltays_final'].value\n",
    "    except Exception:\n",
    "        print(path)\n",
    "        raise\n",
    "\n",
    "    return X, Y, dx, dy\n",
    "\n",
    "pathbase = path_repository + '/image_samples/4th_PIV-Challenge_Case_E'\n",
    "postfix = '.piv/'\n",
    "v = 'piv_00001-00002.h5'\n",
    "\n",
    "path1 = pathbase + '/E_Particle_Images/Camera_01' + postfix + v\n",
    "path3 = pathbase + '/E_Particle_Images/Camera_03' + postfix + v\n",
    "\n",
    "Xl, Yl, dxl, dyl = get_piv_field(path1)\n",
    "Xr, Yr, dxr, dyr = get_piv_field(path3)"
   ]
  },
  {
   "cell_type": "markdown",
   "metadata": {},
   "source": [
    "Make an instance of the class with the 2 calibration files"
   ]
  },
  {
   "cell_type": "code",
   "execution_count": null,
   "metadata": {},
   "outputs": [],
   "source": [
    "pathcalib1 = pathbase + '/E_Calibration_Images/Camera_01/calib1.npy'\n",
    "pathcalib3 = pathbase + '/E_Calibration_Images/Camera_03/calib3.npy'\n",
    "stereo = DirectStereoReconstruction(pathcalib1, pathcalib3)"
   ]
  },
  {
   "cell_type": "markdown",
   "metadata": {},
   "source": [
    "Define the plane of measurement"
   ]
  },
  {
   "cell_type": "code",
   "execution_count": null,
   "metadata": {},
   "outputs": [],
   "source": [
    "z0 = 0\n",
    "alpha = 0\n",
    "beta = 0\n",
    "a, b, c, d = get_plane_equation(z0, alpha, beta)"
   ]
  },
  {
   "cell_type": "markdown",
   "metadata": {},
   "source": [
    "Apply calibration on each cameras, the result is given of their respectives planes"
   ]
  },
  {
   "cell_type": "code",
   "execution_count": null,
   "metadata": {},
   "outputs": [],
   "source": [
    "X0, X1, d0cam, d1cam = stereo.project2cam(\n",
    "    Xl, Yl, dxl, dyl, Xr, Yr, dxr, dyr, a, b, c, d, check=False)"
   ]
  },
  {
   "cell_type": "markdown",
   "metadata": {},
   "source": [
    "Find the common grid"
   ]
  },
  {
   "cell_type": "code",
   "execution_count": null,
   "metadata": {},
   "outputs": [],
   "source": [
    "X, Y, Z = stereo.find_common_grid(X0, X1, a, b, c, d)"
   ]
  },
  {
   "cell_type": "markdown",
   "metadata": {},
   "source": [
    "Reconstruct the 3 components of the velocity"
   ]
  },
  {
   "cell_type": "code",
   "execution_count": null,
   "metadata": {},
   "outputs": [],
   "source": [
    "dx, dy, dz, erx, ery, erz = stereo.reconstruction(\n",
    "    X0, X1, d0cam, d1cam, a, b, c, d, X, Y, check=False)"
   ]
  }
 ],
 "metadata": {
  "kernelspec": {
   "display_name": "Python 3",
   "language": "python",
   "name": "python3"
  },
  "language_info": {
   "codemirror_mode": {
    "name": "ipython",
    "version": 3
   },
   "file_extension": ".py",
   "mimetype": "text/x-python",
   "name": "python",
   "nbconvert_exporter": "python",
   "pygments_lexer": "ipython3",
   "version": "3.6.2"
  }
 },
 "nbformat": 4,
 "nbformat_minor": 2
}
