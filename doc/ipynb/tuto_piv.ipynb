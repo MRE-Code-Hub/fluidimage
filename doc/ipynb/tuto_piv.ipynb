{
 "cells": [
  {
   "cell_type": "markdown",
   "metadata": {},
   "source": [
    "# PIV computation"
   ]
  },
  {
   "cell_type": "raw",
   "metadata": {},
   "source": [
    "We first import the class :class:`fluidimage.topologies.piv.TopologyPIV`."
   ]
  },
  {
   "cell_type": "code",
   "execution_count": 1,
   "metadata": {
    "collapsed": true
   },
   "outputs": [],
   "source": [
    "from fluidimage.topologies.piv import TopologyPIV\n",
    "\n"
   ]
  },
  {
   "cell_type": "markdown",
   "metadata": {},
   "source": [
    "We use a class function to create an object containing the parameters."
   ]
  },
  {
   "cell_type": "code",
   "execution_count": 2,
   "metadata": {
    "collapsed": true
   },
   "outputs": [],
   "source": [
    "params = TopologyPIV.create_default_params()"
   ]
  },
  {
   "cell_type": "markdown",
   "metadata": {},
   "source": [
    "The representation of this object is useful. In Ipython, just do:"
   ]
  },
  {
   "cell_type": "code",
   "execution_count": 3,
   "metadata": {
    "collapsed": false
   },
   "outputs": [
    {
     "data": {
      "text/plain": [
       "<fluiddyn.util.paramcontainer.ParamContainer object at 0x7f5031fede10>\n",
       "\n",
       "<params>\n",
       "  <piv0 method_correl=\"fftw\" shape_crop_im1=\"None\" shape_crop_im0=\"48\"\n",
       "        delta_max=\"None\" method_subpix=\"centroid\" delta_mean=\"None\">\n",
       "    <grid from=\"overlap\" overlap=\"0.5\"/>  \n",
       "\n",
       "  </piv0>\n",
       "\n",
       "  <saving postfix=\"piv\" path=\"None\" how=\"ask\"/>  \n",
       "\n",
       "  <series path=\"\" strcouple=\"i+1:i+3\" ind_stop=\"None\"/>  \n",
       "\n",
       "  <fix delta_max=\"4\" remove_error_vec=\"True\" delta_diff=\"0.1\" correl_min=\"0.4\"/>  \n",
       "\n",
       "  <mask/>  \n",
       "\n",
       "  <multipass use_tps=\"True\" number=\"1\" coeff_zoom=\"2\"/>  \n",
       "\n",
       "</params>"
      ]
     },
     "execution_count": 3,
     "metadata": {},
     "output_type": "execute_result"
    }
   ],
   "source": [
    "params"
   ]
  },
  {
   "cell_type": "markdown",
   "metadata": {},
   "source": [
    "We here see a representation of the default parameters. Some elements have a `_doc` attribute. For example:"
   ]
  },
  {
   "cell_type": "code",
   "execution_count": 4,
   "metadata": {
    "collapsed": false
   },
   "outputs": [
    {
     "name": "stdout",
     "output_type": "stream",
     "text": [
      "Multipass PIV parameters:\n",
      "\n",
      "`coeff_zoom` can be an integer or a iterable of size `number - 1`.\n",
      "\n"
     ]
    }
   ],
   "source": [
    "print(params.multipass._doc)"
   ]
  },
  {
   "cell_type": "markdown",
   "metadata": {},
   "source": [
    "We can of course modify these parameters. An error will be raised if we accidentally try to modify a non existing parameter. We at least need to give information about where are the input images:"
   ]
  },
  {
   "cell_type": "code",
   "execution_count": 5,
   "metadata": {
    "collapsed": true
   },
   "outputs": [],
   "source": [
    "params.series.path = '../../image_samples/Karman/Images'\n",
    "\n",
    "params.piv0.shape_crop_im0 = 32\n",
    "params.multipass.number = 2\n",
    "params.multipass.use_tps = False\n",
    "\n",
    "params.saving.how = 'recompute'\n",
    "params.saving.postfix = 'piv_ipynb'"
   ]
  },
  {
   "cell_type": "markdown",
   "metadata": {},
   "source": [
    "For this tutorial, we need to set a quite verbose mode:"
   ]
  },
  {
   "cell_type": "code",
   "execution_count": 6,
   "metadata": {
    "collapsed": false
   },
   "outputs": [],
   "source": [
    "from fluidimage import config_logging\n",
    "config_logging('info')"
   ]
  },
  {
   "cell_type": "raw",
   "metadata": {},
   "source": [
    "In order to run the PIV computation, we have to instanciate an object of the class :class:`fluidimage.topologies.piv.TopologyPIV`."
   ]
  },
  {
   "cell_type": "code",
   "execution_count": 7,
   "metadata": {
    "collapsed": false
   },
   "outputs": [],
   "source": [
    "topology = TopologyPIV(params)"
   ]
  },
  {
   "cell_type": "markdown",
   "metadata": {},
   "source": [
    "We then launch the computation by running the function `topology.compute`:"
   ]
  },
  {
   "cell_type": "code",
   "execution_count": 8,
   "metadata": {
    "collapsed": false
   },
   "outputs": [
    {
     "name": "stderr",
     "output_type": "stream",
     "text": [
      "INFO: check_and_act for work: <function load_image at 0x7f503a913230>\n",
      "INFO: launch work <function load_image at 0x7f503a913230>\n",
      "INFO: check_and_act for work: 'make_couples'\n",
      "INFO: check_and_act for work: <function load_image at 0x7f503a913230>\n",
      "INFO: launch work <function load_image at 0x7f503a913230>\n",
      "INFO: check_and_act for work: 'make_couples'\n",
      "INFO: check_and_act for work: <function load_image at 0x7f503a913230>\n",
      "INFO: check_and_act for work: 'make_couples'\n",
      "INFO: check_and_act for work: <bound method WorkPIV.calcul of <fluidimage.works.piv.multipass.WorkPIV object at 0x7f5032008710>>\n",
      "INFO: launch work <bound method WorkPIV.calcul of <fluidimage.works.piv.multipass.WorkPIV object at 0x7f5032008710>>\n",
      "INFO: check_and_act for work: <function load_image at 0x7f503a913230>\n",
      "/usr/local/lib/python2.7/dist-packages/matplotlib/tri/triangulation.py:110: FutureWarning: comparison to `None` will result in an elementwise object comparison in the future.\n",
      "  self._neighbors)\n",
      "INFO: check_and_act for work: 'make_couples'\n",
      "INFO: check_and_act for work: <bound method WorkPIV.calcul of <fluidimage.works.piv.multipass.WorkPIV object at 0x7f5032008710>>\n",
      "INFO: check_and_act for work: <function load_image at 0x7f503a913230>\n",
      "INFO: launch work <function load_image at 0x7f503a913230>\n",
      "INFO: check_and_act for work: 'make_couples'\n",
      "INFO: check_and_act for work: <bound method WorkPIV.calcul of <fluidimage.works.piv.multipass.WorkPIV object at 0x7f5032008710>>\n",
      "INFO: check_and_act for work: 'make_couples'\n",
      "INFO: check_and_act for work: <bound method WorkPIV.calcul of <fluidimage.works.piv.multipass.WorkPIV object at 0x7f5032008710>>\n",
      "INFO: check_and_act for work: <bound method WorkPIV.calcul of <fluidimage.works.piv.multipass.WorkPIV object at 0x7f5032008710>>\n",
      "INFO: launch work <bound method WorkPIV.calcul of <fluidimage.works.piv.multipass.WorkPIV object at 0x7f5032008710>>\n",
      "INFO: check_and_act for work: <function <lambda> at 0x7f5032017140>\n",
      "INFO: launch work <function <lambda> at 0x7f5032017140>\n",
      "INFO: check_and_act for work: <bound method WorkPIV.calcul of <fluidimage.works.piv.multipass.WorkPIV object at 0x7f5032008710>>\n",
      "/usr/local/lib/python2.7/dist-packages/matplotlib/tri/triangulation.py:110: FutureWarning: comparison to `None` will result in an elementwise object comparison in the future.\n",
      "  self._neighbors)\n",
      "INFO: check_and_act for work: <bound method WorkPIV.calcul of <fluidimage.works.piv.multipass.WorkPIV object at 0x7f5032008710>>\n",
      "INFO: check_and_act for work: <bound method WorkPIV.calcul of <fluidimage.works.piv.multipass.WorkPIV object at 0x7f5032008710>>\n",
      "INFO: check_and_act for work: <function <lambda> at 0x7f5032017140>\n",
      "INFO: launch work <function <lambda> at 0x7f5032017140>\n",
      "INFO: check_and_act for work: <bound method WorkPIV.calcul of <fluidimage.works.piv.multipass.WorkPIV object at 0x7f5032008710>>\n",
      "INFO: launch work <bound method WorkPIV.calcul of <fluidimage.works.piv.multipass.WorkPIV object at 0x7f5032008710>>\n",
      "INFO: check_and_act for work: <function <lambda> at 0x7f5032017140>\n",
      "/usr/local/lib/python2.7/dist-packages/matplotlib/tri/triangulation.py:110: FutureWarning: comparison to `None` will result in an elementwise object comparison in the future.\n",
      "  self._neighbors)\n",
      "INFO: launch work <function <lambda> at 0x7f5032017140>\n"
     ]
    }
   ],
   "source": [
    "topology.compute()"
   ]
  },
  {
   "cell_type": "markdown",
   "metadata": {},
   "source": [
    "The output files are saved in the directory ../../image_samples/Karman/Images.piv_ipynb/"
   ]
  },
  {
   "cell_type": "code",
   "execution_count": 9,
   "metadata": {
    "collapsed": false
   },
   "outputs": [
    {
     "name": "stdout",
     "output_type": "stream",
     "text": [
      "piv_Karman01-02.h5  piv_Karman02-03.h5  piv_Karman03-04.h5\r\n"
     ]
    }
   ],
   "source": [
    "ls ../../image_samples/Karman/Images.piv_ipynb/"
   ]
  }
 ],
 "metadata": {
  "kernelspec": {
   "display_name": "Python 2",
   "language": "python",
   "name": "python2"
  },
  "language_info": {
   "codemirror_mode": {
    "name": "ipython",
    "version": 2
   },
   "file_extension": ".py",
   "mimetype": "text/x-python",
   "name": "python",
   "nbconvert_exporter": "python",
   "pygments_lexer": "ipython2",
   "version": "2.7.10"
  }
 },
 "nbformat": 4,
 "nbformat_minor": 0
}
