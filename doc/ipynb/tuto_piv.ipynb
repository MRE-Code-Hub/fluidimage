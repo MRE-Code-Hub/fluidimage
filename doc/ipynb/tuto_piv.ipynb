{
 "cells": [
  {
   "cell_type": "markdown",
   "metadata": {},
   "source": [
    "# PIV computation"
   ]
  },
  {
   "cell_type": "raw",
   "metadata": {},
   "source": [
    "We first import the class :class:`fluidimage.topologies.piv.TopologyPIV`."
   ]
  },
  {
   "cell_type": "code",
   "execution_count": 1,
   "metadata": {
    "collapsed": false
   },
   "outputs": [],
   "source": [
    "from fluidimage.topologies.piv import TopologyPIV"
   ]
  },
  {
   "cell_type": "markdown",
   "metadata": {},
   "source": [
    "We use a class function to create an object containing the parameters."
   ]
  },
  {
   "cell_type": "code",
   "execution_count": 2,
   "metadata": {
    "collapsed": true
   },
   "outputs": [],
   "source": [
    "params = TopologyPIV.create_default_params()"
   ]
  },
  {
   "cell_type": "markdown",
   "metadata": {},
   "source": [
    "The representation of this object is useful. In Ipython, just do:"
   ]
  },
  {
   "cell_type": "code",
   "execution_count": 3,
   "metadata": {
    "collapsed": false
   },
   "outputs": [
    {
     "data": {
      "text/plain": [
       "<fluiddyn.util.paramcontainer.ParamContainer object at 0x7fa8298f0350>\n",
       "\n",
       "<params>\n",
       "  <piv0 coef_correl_no_displ=\"None\" method_correl=\"fftw\" shape_crop_im1=\"None\"\n",
       "        shape_crop_im0=\"48\" delta_max=\"None\" method_subpix=\"2d_gaussian\"\n",
       "        delta_mean=\"None\" nsubpix=\"1\">\n",
       "    <grid from=\"overlap\" overlap=\"0.5\"/>  \n",
       "\n",
       "  </piv0>\n",
       "\n",
       "  <saving postfix=\"piv\" path=\"None\" how=\"ask\"/>  \n",
       "\n",
       "  <series ind_step=\"1\" path=\"\" strcouple=\"i:i+2\" ind_stop=\"None\" ind_start=\"0\"/>  \n",
       "\n",
       "  <fix correl_min=\"0.2\" threshold_diff_neighbour=\"10\" displacement_max=\"None\"/>  \n",
       "\n",
       "  <mask/>  \n",
       "\n",
       "  <multipass use_tps=\"last\" smoothing_coef=\"0.5\" number=\"1\" coeff_zoom=\"2\"\n",
       "             subdom_size=\"200\" threshold_tps=\"1.0\"/>  \n",
       "\n",
       "</params>"
      ]
     },
     "execution_count": 3,
     "metadata": {},
     "output_type": "execute_result"
    }
   ],
   "source": [
    "params"
   ]
  },
  {
   "cell_type": "markdown",
   "metadata": {},
   "source": [
    "We here see a representation of the default parameters. Some elements have a `_doc` attribute. For example:"
   ]
  },
  {
   "cell_type": "code",
   "execution_count": 4,
   "metadata": {
    "collapsed": false
   },
   "outputs": [
    {
     "name": "stdout",
     "output_type": "stream",
     "text": [
      "Multipass PIV parameters:\n",
      "\n",
      "number : int (default 1)\n",
      "    Number of PIV passes.\n",
      "\n",
      "coeff_zoom : integer or iterable of size `number - 1`.\n",
      "\n",
      "    Coefficient defining the size of the interrogation windows for the passes 1\n",
      "            to `number - 1` (always defined comparing the passes `i-1`).\n",
      "\n",
      "use_tps : bool or 'last'\n",
      "\n",
      "    If it is True, the interpolation is done using the Thin Plate Spline method\n",
      "    (computationnally heavy but sometimes interesting). If it is 'last', the\n",
      "    TPS method is used only for the last pass.\n",
      "\n",
      "subdom_size : int\n",
      "\n",
      "    Number of vectors in the subdomains used for the TPS method.\n",
      "\n",
      "smoothing_coef : float\n",
      "\n",
      "    Coefficient used for the TPS method. The result is smoother for larger\n",
      "    smoothing_coef.\n",
      "\n",
      "threshold_tps :  float\n",
      "\n",
      "    Allowed difference of displacement (in pixels) between smoothed and input\n",
      "    field for TPS filter.\n",
      "\n",
      "\n"
     ]
    }
   ],
   "source": [
    "print(params.multipass._doc)"
   ]
  },
  {
   "cell_type": "markdown",
   "metadata": {},
   "source": [
    "We can of course modify these parameters. An error will be raised if we accidentally try to modify a non existing parameter. We at least need to give information about where are the input images:"
   ]
  },
  {
   "cell_type": "code",
   "execution_count": 5,
   "metadata": {
    "collapsed": true
   },
   "outputs": [],
   "source": [
    "params.series.path = '../../image_samples/Karman/Images'\n",
    "\n",
    "params.piv0.shape_crop_im0 = 32\n",
    "params.multipass.number = 2\n",
    "params.multipass.use_tps = False\n",
    "\n",
    "params.saving.how = 'recompute'\n",
    "params.saving.postfix = 'piv_ipynb'"
   ]
  },
  {
   "cell_type": "raw",
   "metadata": {},
   "source": [
    "In order to run the PIV computation, we have to instanciate an object of the class :class:`fluidimage.topologies.piv.TopologyPIV`."
   ]
  },
  {
   "cell_type": "code",
   "execution_count": 6,
   "metadata": {
    "collapsed": false
   },
   "outputs": [
    {
     "name": "stdout",
     "output_type": "stream",
     "text": [
      "warning: this SeriesOfArrays has been initialized with parameters such that no serie of images has been found:\n",
      "serie=<fluiddyn.util.serieofarrays.SerieOfArraysFromFiles object at 0x7fa8298f0710>,\n",
      "indslices_from_indserie=i:i+2, ind_start=0, ind_stop=0, ind_step=1.\n"
     ]
    }
   ],
   "source": [
    "topology = TopologyPIV(params)"
   ]
  },
  {
   "cell_type": "markdown",
   "metadata": {},
   "source": [
    "We then launch the computation by running the function `topology.compute`:"
   ]
  },
  {
   "cell_type": "code",
   "execution_count": 7,
   "metadata": {
    "collapsed": false
   },
   "outputs": [],
   "source": [
    "topology.compute()"
   ]
  },
  {
   "cell_type": "markdown",
   "metadata": {},
   "source": [
    "The output files are saved in the directory ../../image_samples/Karman/Images.piv_ipynb/"
   ]
  },
  {
   "cell_type": "code",
   "execution_count": 8,
   "metadata": {
    "collapsed": false
   },
   "outputs": [],
   "source": [
    "ls ../../image_samples/Karman/Images.piv_ipynb/"
   ]
  }
 ],
 "metadata": {
  "kernelspec": {
   "display_name": "Python 2",
   "language": "python",
   "name": "python2"
  },
  "language_info": {
   "codemirror_mode": {
    "name": "ipython",
    "version": 2
   },
   "file_extension": ".py",
   "mimetype": "text/x-python",
   "name": "python",
   "nbconvert_exporter": "python",
   "pygments_lexer": "ipython2",
   "version": "2.7.9"
  }
 },
 "nbformat": 4,
 "nbformat_minor": 0
}
