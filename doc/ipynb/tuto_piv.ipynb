{
 "cells": [
  {
   "cell_type": "markdown",
   "metadata": {
    "deletable": true,
    "editable": true
   },
   "source": [
    "# PIV computation"
   ]
  },
  {
   "cell_type": "raw",
   "metadata": {
    "deletable": true,
    "editable": true
   },
   "source": [
    "We first import the class :class:`fluidimage.topologies.piv.TopologyPIV`."
   ]
  },
  {
   "cell_type": "code",
   "execution_count": 1,
   "metadata": {
    "collapsed": false,
    "deletable": true,
    "editable": true
   },
   "outputs": [],
   "source": [
    "from fluidimage.topologies.piv import TopologyPIV"
   ]
  },
  {
   "cell_type": "markdown",
   "metadata": {
    "deletable": true,
    "editable": true
   },
   "source": [
    "We use a class function to create an object containing the parameters."
   ]
  },
  {
   "cell_type": "code",
   "execution_count": 2,
   "metadata": {
    "collapsed": true,
    "deletable": true,
    "editable": true
   },
   "outputs": [],
   "source": [
    "params = TopologyPIV.create_default_params()"
   ]
  },
  {
   "cell_type": "markdown",
   "metadata": {
    "deletable": true,
    "editable": true
   },
   "source": [
    "The representation of this object is useful. In Ipython, just do:"
   ]
  },
  {
   "cell_type": "code",
   "execution_count": 3,
   "metadata": {
    "collapsed": false,
    "deletable": true,
    "editable": true
   },
   "outputs": [
    {
     "data": {
      "text/plain": [
       "<fluiddyn.util.paramcontainer.ParamContainer object at 0x7fafa3427c88>\n",
       "\n",
       "<params>\n",
       "  {\"program\": \"fluidimage\", \"class\": \"TopologyPIV\", \"module\":\n",
       "  \"fluidimage.topologies.piv\"}\n",
       "  <series ind_step=\"1\" ind_stop=\"None\" strcouple=\"i:i+2\" path=\"\" ind_start=\"0\"/>  \n",
       "\n",
       "  <saving postfix=\"piv\" how=\"ask\" path=\"None\"/>  \n",
       "\n",
       "  <piv0 coef_correl_no_displ=\"None\" method_subpix=\"2d_gaussian2\"\n",
       "        shape_crop_im1=\"None\" shape_crop_im0=\"48\" nsubpix=\"None\"\n",
       "        delta_mean=\"None\" method_correl=\"fftw\" delta_max=\"None\">\n",
       "    <grid overlap=\"0.5\" from=\"overlap\"/>  \n",
       "\n",
       "  </piv0>\n",
       "\n",
       "  <mask strcrop=\"None\"/>  \n",
       "\n",
       "  <fix correl_min=\"0.2\" displacement_max=\"None\" threshold_diff_neighbour=\"10\"/>  \n",
       "\n",
       "  <multipass threshold_tps=\"1.0\" coeff_zoom=\"2\" number=\"1\" use_tps=\"last\"\n",
       "             smoothing_coef=\"0.5\" subdom_size=\"200\"/>  \n",
       "\n",
       "</params>"
      ]
     },
     "execution_count": 3,
     "metadata": {},
     "output_type": "execute_result"
    }
   ],
   "source": [
    "params"
   ]
  },
  {
   "cell_type": "markdown",
   "metadata": {
    "deletable": true,
    "editable": true
   },
   "source": [
    "We here see a representation of the default parameters. Some elements have a `_doc` attribute. For example:"
   ]
  },
  {
   "cell_type": "code",
   "execution_count": 4,
   "metadata": {
    "collapsed": false,
    "deletable": true,
    "editable": true
   },
   "outputs": [
    {
     "name": "stdout",
     "output_type": "stream",
     "text": [
      "Documentation for params.multipass\n",
      "----------------------------------\n",
      "\n",
      "Multipass PIV parameters:\n",
      "\n",
      "number : int (default 1)\n",
      "    Number of PIV passes.\n",
      "\n",
      "coeff_zoom : integer or iterable of size `number - 1`.\n",
      "\n",
      "    Coefficient defining the size of the interrogation windows for the passes 1\n",
      "            to `number - 1` (always defined comparing the passes `i-1`).\n",
      "\n",
      "use_tps : bool or 'last'\n",
      "\n",
      "    If it is True, the interpolation is done using the Thin Plate Spline method\n",
      "    (computationnally heavy but sometimes interesting). If it is 'last', the\n",
      "    TPS method is used only for the last pass.\n",
      "\n",
      "subdom_size : int\n",
      "\n",
      "    Number of vectors in the subdomains used for the TPS method.\n",
      "\n",
      "smoothing_coef : float\n",
      "\n",
      "    Coefficient used for the TPS method. The result is smoother for larger\n",
      "    smoothing_coef.\n",
      "\n",
      "threshold_tps :  float\n",
      "\n",
      "    Allowed difference of displacement (in pixels) between smoothed and input\n",
      "    field for TPS filter.\n",
      "\n"
     ]
    }
   ],
   "source": [
    "params.multipass._print_doc()"
   ]
  },
  {
   "cell_type": "markdown",
   "metadata": {
    "deletable": true,
    "editable": true
   },
   "source": [
    "We can of course modify these parameters. An error will be raised if we accidentally try to modify a non existing parameter. We at least need to give information about where are the input images:"
   ]
  },
  {
   "cell_type": "code",
   "execution_count": 5,
   "metadata": {
    "collapsed": true,
    "deletable": true,
    "editable": true
   },
   "outputs": [],
   "source": [
    "params.series.path = '../../image_samples/Karman/Images'\n",
    "params.series.ind_start = 1\n",
    "\n",
    "params.piv0.shape_crop_im0 = 32\n",
    "params.multipass.number = 2\n",
    "params.multipass.use_tps = False\n",
    "\n",
    "params.saving.how = 'recompute'\n",
    "params.saving.postfix = 'piv_ipynb'"
   ]
  },
  {
   "cell_type": "raw",
   "metadata": {
    "deletable": true,
    "editable": true
   },
   "source": [
    "In order to run the PIV computation, we have to instanciate an object of the class :class:`fluidimage.topologies.piv.TopologyPIV`."
   ]
  },
  {
   "cell_type": "code",
   "execution_count": 6,
   "metadata": {
    "collapsed": false,
    "deletable": true,
    "editable": true
   },
   "outputs": [
    {
     "name": "stdout",
     "output_type": "stream",
     "text": [
      "nb_cpus_allowed = 4\n",
      "nb_max_workers =  6\n",
      "nb_max_workers_io =  4\n",
      "Add 3 PIV fields to compute.\n",
      "Files of serie 0: ('Karman_01.bmp', 'Karman_02.bmp')\n",
      "Files of serie 1: ('Karman_02.bmp', 'Karman_03.bmp')\n",
      "\n"
     ]
    }
   ],
   "source": [
    "topology = TopologyPIV(params)"
   ]
  },
  {
   "cell_type": "markdown",
   "metadata": {
    "deletable": true,
    "editable": true
   },
   "source": [
    "We then launch the computation by running the function `topology.compute`:"
   ]
  },
  {
   "cell_type": "code",
   "execution_count": 7,
   "metadata": {
    "collapsed": false,
    "deletable": true,
    "editable": true
   },
   "outputs": [
    {
     "name": "stdout",
     "output_type": "stream",
     "text": [
      "INFO: path results:\n",
      "../../image_samples/Karman/Images.piv_ipynb\n",
      "INFO: \u001b[92m2017-04-10_09-26-02.45: start compute. mem usage: 116.355 Mb\u001b[0m\n",
      "INFO: \u001b[92m0.02 s. Launch work fluidimage.topologies.waiting_queues.base.load_image (Karman_02.bmp). mem usage: 116.355 Mb\u001b[0m\n",
      "INFO: \u001b[92m0.02 s. Launch work fluidimage.topologies.waiting_queues.base.load_image (Karman_03.bmp). mem usage: 116.668 Mb\u001b[0m\n",
      "INFO: \u001b[92m0.03 s. Launch work fluidimage.topologies.waiting_queues.base.load_image (Karman_04.bmp). mem usage: 118.742 Mb\u001b[0m\n",
      "INFO: work fluidimage.topologies.waiting_queues.base.load_image (Karman_02.bmp) done in 0.08 s\n",
      "INFO: work fluidimage.topologies.waiting_queues.base.load_image (Karman_04.bmp) done in 0.07 s\n",
      "INFO: \u001b[92m0.11 s. Launch work builtins.method.calcul (Karman_01.bmp-Karman_02.bmp). mem usage: 121.359 Mb\u001b[0m\n",
      "INFO: work fluidimage.topologies.waiting_queues.base.load_image (Karman_03.bmp) done in 0.18 s\n",
      "INFO: \u001b[92m0.22 s. Launch work builtins.method.calcul (Karman_02.bmp-Karman_03.bmp). mem usage: 121.496 Mb\u001b[0m\n",
      "INFO: \u001b[92m0.23 s. Launch work builtins.method.calcul (Karman_03.bmp-Karman_04.bmp). mem usage: 121.500 Mb\u001b[0m\n",
      "INFO: work builtins.method.calcul (Karman_01.bmp-Karman_02.bmp) done in 2.75 s\n",
      "INFO: \u001b[92m2.89 s. Launch work builtins.function.save_piv_object (Karman_01.bmp-Karman_02.bmp). mem usage: 132.289 Mb\u001b[0m\n",
      "INFO: work builtins.function.save_piv_object (Karman_01.bmp-Karman_02.bmp) done in 0.04 s\n",
      "INFO: work builtins.method.calcul (Karman_02.bmp-Karman_03.bmp) done in 2.78 s\n",
      "INFO: \u001b[92m3.02 s. Launch work builtins.function.save_piv_object (Karman_02.bmp-Karman_03.bmp). mem usage: 132.930 Mb\u001b[0m\n",
      "INFO: work builtins.function.save_piv_object (Karman_02.bmp-Karman_03.bmp) done in 0.13 s\n",
      "INFO: work builtins.method.calcul (Karman_03.bmp-Karman_04.bmp) done in 2.90 s\n",
      "INFO: \u001b[92m3.17 s. Launch work builtins.function.save_piv_object (Karman_03.bmp-Karman_04.bmp). mem usage: 133.039 Mb\u001b[0m\n",
      "INFO: work builtins.function.save_piv_object (Karman_03.bmp-Karman_04.bmp) done in 0.18 s\n",
      "Stop compute after t = 3.45 s (3 piv fields, 1.15 s/field).\n",
      "path results:\n",
      "../../image_samples/Karman/Images.piv_ipynb\n",
      "INFO: \u001b[92m2017-04-10_09-26-05.90: end of `compute`. mem usage: 128.395 Mb\u001b[0m\n"
     ]
    }
   ],
   "source": [
    "topology.compute()"
   ]
  },
  {
   "cell_type": "markdown",
   "metadata": {
    "deletable": true,
    "editable": true
   },
   "source": [
    "The output files are saved in the directory ../../image_samples/Karman/Images.piv_ipynb/"
   ]
  },
  {
   "cell_type": "code",
   "execution_count": 8,
   "metadata": {
    "collapsed": false,
    "deletable": true,
    "editable": true
   },
   "outputs": [
    {
     "name": "stdout",
     "output_type": "stream",
     "text": [
      "Karman_01.bmp  Karman_02.bmp  Karman_03.bmp  Karman_04.bmp\r\n"
     ]
    }
   ],
   "source": [
    "!ls ../../image_samples/Karman/Images"
   ]
  },
  {
   "cell_type": "code",
   "execution_count": 9,
   "metadata": {
    "collapsed": false,
    "deletable": true,
    "editable": true
   },
   "outputs": [
    {
     "name": "stdout",
     "output_type": "stream",
     "text": [
      "log_2017-04-10_09-26-02_14759.txt     piv_01-02.h5  piv_03-04.h5\r\n",
      "params_2017-04-10_09-26-02_14759.xml  piv_02-03.h5\r\n"
     ]
    }
   ],
   "source": [
    "!ls ../../image_samples/Karman/Images.piv_ipynb"
   ]
  }
 ],
 "metadata": {
  "kernelspec": {
   "display_name": "Python 3",
   "language": "python",
   "name": "python3"
  },
  "language_info": {
   "codemirror_mode": {
    "name": "ipython",
    "version": 3
   },
   "file_extension": ".py",
   "mimetype": "text/x-python",
   "name": "python",
   "nbconvert_exporter": "python",
   "pygments_lexer": "ipython3",
   "version": "3.5.1"
  }
 },
 "nbformat": 4,
 "nbformat_minor": 0
}
