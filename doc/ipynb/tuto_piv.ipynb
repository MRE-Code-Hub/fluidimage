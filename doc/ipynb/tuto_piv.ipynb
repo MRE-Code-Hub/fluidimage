{
 "cells": [
  {
   "cell_type": "code",
   "execution_count": 1,
   "metadata": {
    "collapsed": false
   },
   "outputs": [],
   "source": [
    "import sys\n",
    "nb_stdout = sys.stdout"
   ]
  },
  {
   "cell_type": "markdown",
   "metadata": {},
   "source": [
    "# PIV computation"
   ]
  },
  {
   "cell_type": "raw",
   "metadata": {},
   "source": [
    "We first import the class :class:`fluidimage.topologies.piv.TopologyPIV`."
   ]
  },
  {
   "cell_type": "code",
   "execution_count": 2,
   "metadata": {
    "collapsed": false
   },
   "outputs": [
    {
     "name": "stdout",
     "output_type": "stream",
     "text": [
      "Warning: function compute_tps_matrix_numpy not pythranized.\n"
     ]
    }
   ],
   "source": [
    "from fluidimage.topologies.piv import TopologyPIV"
   ]
  },
  {
   "cell_type": "markdown",
   "metadata": {},
   "source": [
    "We use a class function to create an object containing the parameters."
   ]
  },
  {
   "cell_type": "code",
   "execution_count": 3,
   "metadata": {
    "collapsed": true
   },
   "outputs": [],
   "source": [
    "params = TopologyPIV.create_default_params()"
   ]
  },
  {
   "cell_type": "markdown",
   "metadata": {},
   "source": [
    "The representation of this object is useful. In Ipython, just do:"
   ]
  },
  {
   "cell_type": "code",
   "execution_count": 4,
   "metadata": {
    "collapsed": false
   },
   "outputs": [
    {
     "data": {
      "text/plain": [
       "<fluiddyn.util.paramcontainer.ParamContainer object at 0x7ffae1d27710>\n",
       "\n",
       "<params>\n",
       "  <series path=\"\" strcouple=\"i:i+2\" ind_step=\"1\" ind_start=\"0\" ind_stop=\"None\"/>  \n",
       "\n",
       "  <piv0 delta_max=\"None\" coef_correl_no_displ=\"None\" delta_mean=\"None\"\n",
       "        method_subpix=\"2d_gaussian\" nsubpix=\"1\" method_correl=\"fftw\"\n",
       "        shape_crop_im1=\"None\" shape_crop_im0=\"48\">\n",
       "    <grid from=\"overlap\" overlap=\"0.5\"/>  \n",
       "\n",
       "  </piv0>\n",
       "\n",
       "  <saving path=\"None\" postfix=\"piv\" how=\"ask\"/>  \n",
       "\n",
       "  <mask/>  \n",
       "\n",
       "  <multipass number=\"1\" coeff_zoom=\"2\" use_tps=\"last\" smoothing_coef=\"0.5\"\n",
       "             threshold_tps=\"1.0\" subdom_size=\"200\"/>  \n",
       "\n",
       "  <fix correl_min=\"0.2\" threshold_diff_neighbour=\"10\" displacement_max=\"None\"/>  \n",
       "\n",
       "</params>"
      ]
     },
     "execution_count": 4,
     "metadata": {},
     "output_type": "execute_result"
    }
   ],
   "source": [
    "params"
   ]
  },
  {
   "cell_type": "markdown",
   "metadata": {},
   "source": [
    "We here see a representation of the default parameters. Some elements have a `_doc` attribute. For example:"
   ]
  },
  {
   "cell_type": "code",
   "execution_count": 5,
   "metadata": {
    "collapsed": false
   },
   "outputs": [
    {
     "name": "stdout",
     "output_type": "stream",
     "text": [
      "Multipass PIV parameters:\n",
      "\n",
      "number : int (default 1)\n",
      "    Number of PIV passes.\n",
      "\n",
      "coeff_zoom : integer or iterable of size `number - 1`.\n",
      "\n",
      "    Coefficient defining the size of the interrogation windows for the passes 1\n",
      "            to `number - 1` (always defined comparing the passes `i-1`).\n",
      "\n",
      "use_tps : bool or 'last'\n",
      "\n",
      "    If it is True, the interpolation is done using the Thin Plate Spline method\n",
      "    (computationnally heavy but sometimes interesting). If it is 'last', the\n",
      "    TPS method is used only for the last pass.\n",
      "\n",
      "subdom_size : int\n",
      "\n",
      "    Number of vectors in the subdomains used for the TPS method.\n",
      "\n",
      "smoothing_coef : float\n",
      "\n",
      "    Coefficient used for the TPS method. The result is smoother for larger\n",
      "    smoothing_coef.\n",
      "\n",
      "threshold_tps :  float\n",
      "\n",
      "    Allowed difference of displacement (in pixels) between smoothed and input\n",
      "    field for TPS filter.\n",
      "\n",
      "\n"
     ]
    }
   ],
   "source": [
    "params.multipass._print_doc()"
   ]
  },
  {
   "cell_type": "markdown",
   "metadata": {},
   "source": [
    "We can of course modify these parameters. An error will be raised if we accidentally try to modify a non existing parameter. We at least need to give information about where are the input images:"
   ]
  },
  {
   "cell_type": "code",
   "execution_count": 6,
   "metadata": {
    "collapsed": true
   },
   "outputs": [],
   "source": [
    "params.series.path = '../../image_samples/Karman/Images'\n",
    "params.series.ind_start = 1\n",
    "\n",
    "params.piv0.shape_crop_im0 = 32\n",
    "params.multipass.number = 2\n",
    "params.multipass.use_tps = False\n",
    "\n",
    "params.saving.how = 'recompute'\n",
    "params.saving.postfix = 'piv_ipynb'"
   ]
  },
  {
   "cell_type": "raw",
   "metadata": {},
   "source": [
    "In order to run the PIV computation, we have to instanciate an object of the class :class:`fluidimage.topologies.piv.TopologyPIV`."
   ]
  },
  {
   "cell_type": "code",
   "execution_count": 7,
   "metadata": {
    "collapsed": false
   },
   "outputs": [
    {
     "name": "stderr",
     "output_type": "stream",
     "text": [
      "/home/users/augier3pi/Dev/fluidimage/fluidimage/calcul/fft.py:178: VisibleDeprecationWarning: using a non-integer number instead of an integer will result in an error in the future\n",
      "  self.arrayX = pyfftw.n_byte_align_empty(shapeX, 16, self.type_real)\n",
      "/home/users/augier3pi/Dev/fluidimage/fluidimage/calcul/fft.py:179: VisibleDeprecationWarning: using a non-integer number instead of an integer will result in an error in the future\n",
      "  self.arrayK = pyfftw.n_byte_align_empty(shapeK, 16, self.type_complex)\n"
     ]
    }
   ],
   "source": [
    "topology = TopologyPIV(params)\n",
    "sys.stdout = nb_stdout"
   ]
  },
  {
   "cell_type": "markdown",
   "metadata": {},
   "source": [
    "We then launch the computation by running the function `topology.compute`:"
   ]
  },
  {
   "cell_type": "code",
   "execution_count": 8,
   "metadata": {
    "collapsed": false
   },
   "outputs": [
    {
     "name": "stdout",
     "output_type": "stream",
     "text": [
      "self.work_name fluidimage.topologies.waiting_queues.base.load_image\n",
      "self.work_name fluidimage.topologies.waiting_queues.base.load_image\n",
      "self.work_name fluidimage.topologies.waiting_queues.base.load_image\n",
      "self.work_name builtins.method.calcul\n",
      "self.work_name builtins.method.calcul\n",
      "self.work_name builtins.method.calcul\n",
      "self.work_name builtins.function.save_piv_object\n",
      "self.work_name builtins.function.save_piv_object\n",
      "self.work_name builtins.function.save_piv_object\n"
     ]
    }
   ],
   "source": [
    "topology.compute()"
   ]
  },
  {
   "cell_type": "markdown",
   "metadata": {},
   "source": [
    "The output files are saved in the directory ../../image_samples/Karman/Images.piv_ipynb/"
   ]
  },
  {
   "cell_type": "code",
   "execution_count": 9,
   "metadata": {
    "collapsed": false
   },
   "outputs": [],
   "source": [
    "!ls ../../image_samples/Karman/Images"
   ]
  }
 ],
 "metadata": {
  "kernelspec": {
   "display_name": "Python 3",
   "language": "python",
   "name": "python3"
  },
  "language_info": {
   "codemirror_mode": {
    "name": "ipython",
    "version": 3
   },
   "file_extension": ".py",
   "mimetype": "text/x-python",
   "name": "python",
   "nbconvert_exporter": "python",
   "pygments_lexer": "ipython3",
   "version": "3.5.2"
  }
 },
 "nbformat": 4,
 "nbformat_minor": 0
}
