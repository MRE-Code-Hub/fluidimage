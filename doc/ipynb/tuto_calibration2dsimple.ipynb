{
 "cells": [
  {
   "cell_type": "markdown",
   "metadata": {},
   "source": [
    "# Postprocess PIV results (simple calibration)"
   ]
  },
  {
   "cell_type": "code",
   "execution_count": null,
   "metadata": {},
   "outputs": [],
   "source": [
    "from fluidimage import path_image_samples"
   ]
  },
  {
   "cell_type": "code",
   "execution_count": null,
   "metadata": {},
   "outputs": [],
   "source": [
    "import numpy as np\n",
    "from fluidimage.calibration import Calibration2DSimple"
   ]
  },
  {
   "cell_type": "code",
   "execution_count": null,
   "metadata": {},
   "outputs": [],
   "source": [
    "point0 = (10, 20)\n",
    "point1 = (10, 10)\n",
    "\n",
    "\n",
    "calib = Calibration2DSimple(point0, point1, distance=0.1, aspect_ratio_pixel=1.0,\n",
    "                            path_image=path_image_samples + '/Jet/Images/c060a.png', \n",
    "                            point_origin=(10, 10))"
   ]
  },
  {
   "cell_type": "code",
   "execution_count": null,
   "metadata": {},
   "outputs": [],
   "source": [
    "calib.yphys1pixel"
   ]
  },
  {
   "cell_type": "code",
   "execution_count": null,
   "metadata": {},
   "outputs": [],
   "source": [
    "ixs = np.linspace(0, 100, 11)\n",
    "iys = np.linspace(0, 100, 11)\n",
    "calib.pix2phys(ixs, iys)"
   ]
  },
  {
   "cell_type": "code",
   "execution_count": null,
   "metadata": {},
   "outputs": [],
   "source": [
    "dxs = np.random.randint(-5, 5, ixs.size)\n",
    "dys = np.random.randint(-5, 5, ixs.size)\n",
    "xphys, yphys, dxphys, dyphys = calib.displ2phys(ixs, iys, dxs, dys)\n",
    "print(dxphys, dyphys, sep='\\n')"
   ]
  },
  {
   "cell_type": "markdown",
   "metadata": {},
   "source": [
    "- We need to produce a regular grid in the physical space, i.e. to find good values of xmin, xmax, nx, ymin, ymax, ny, to represent the data on a regular grid.\n",
    "\n",
    "  * recompute the regular grid in pixels and apply the calibration.\n",
    "\n",
    "- Then we need a function to interpolate the data on the grid\n",
    "\n",
    "\n",
    "\n",
    "- We can finally produce PIVOnRegularGrid objects."
   ]
  },
  {
   "cell_type": "code",
   "execution_count": null,
   "metadata": {},
   "outputs": [],
   "source": [
    "from scipy.interpolate import griddata\n",
    "\n",
    "def gridd(delta):\n",
    "        delta_grid = griddata((Y, X), delta, (Yg, Xg), method='cubic')\n",
    "        return delta_grid.astype('float32')"
   ]
  }
 ],
 "metadata": {
  "kernelspec": {
   "display_name": "Python 3",
   "language": "python",
   "name": "python3"
  },
  "language_info": {
   "codemirror_mode": {
    "name": "ipython",
    "version": 3
   },
   "file_extension": ".py",
   "mimetype": "text/x-python",
   "name": "python",
   "nbconvert_exporter": "python",
   "pygments_lexer": "ipython3",
   "version": "3.6.1"
  }
 },
 "nbformat": 4,
 "nbformat_minor": 2
}
