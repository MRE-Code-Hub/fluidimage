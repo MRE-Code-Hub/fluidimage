{
 "cells": [
  {
   "cell_type": "markdown",
   "metadata": {
    "deletable": true,
    "editable": true,
    "slideshow": {
     "slide_type": "slide"
    }
   },
   "source": [
    "# FluidImage, a libre Python framework for scientific treatments of large series of images\n",
    "\n",
    "- preprocessing of images\n",
    "- PIV"
   ]
  },
  {
   "cell_type": "markdown",
   "metadata": {
    "deletable": true,
    "editable": true,
    "slideshow": {
     "slide_type": "slide"
    }
   },
   "source": [
    "## FluidImage keywords\n",
    "\n",
    "- Libre, open-source, Python scientific environment,\n",
    "- Tested and documented,\n",
    "- Efficient computation,\n",
    "- Asynchrone, \"big data\", parallel, topology\n",
    "- CPU, GPU, clusters\n",
    "\n",
    "At LEGI: UVmat and FluidImage are complementary tools."
   ]
  },
  {
   "cell_type": "markdown",
   "metadata": {
    "deletable": true,
    "editable": true,
    "slideshow": {
     "slide_type": "slide"
    }
   },
   "source": [
    "## How to use\n",
    "\n",
    "- Python library and development framework\n",
    "- Python scripts (very expressive and powerful)\n",
    "- Graphical launcher for \"simple computations\""
   ]
  },
  {
   "cell_type": "markdown",
   "metadata": {
    "deletable": true,
    "editable": true,
    "slideshow": {
     "slide_type": "slide"
    }
   },
   "source": [
    "## Minimal script for PIV with a \"topology\""
   ]
  },
  {
   "cell_type": "code",
   "execution_count": 1,
   "metadata": {
    "collapsed": false,
    "deletable": true,
    "editable": true
   },
   "outputs": [
    {
     "name": "stderr",
     "output_type": "stream",
     "text": [
      "topology in mode \"complete\" and work already done.\n"
     ]
    }
   ],
   "source": [
    "from fluidimage.topologies.piv import TopologyPIV\n",
    "\n",
    "params = TopologyPIV.create_default_params()\n",
    "\n",
    "params.series.path = '../../image_samples/Karman/Images'\n",
    "params.series.ind_start = 1\n",
    "params.series.ind_step = 2\n",
    "\n",
    "params.piv0.shape_crop_im0 = 32\n",
    "params.multipass.number = 2\n",
    "params.multipass.use_tps = True\n",
    "\n",
    "params.saving.how = 'complete'\n",
    "params.saving.postfix = 'piv_pres'\n",
    "\n",
    "topology = TopologyPIV(params, logging_level=None)\n",
    "\n",
    "topology.compute()"
   ]
  },
  {
   "cell_type": "code",
   "execution_count": 2,
   "metadata": {
    "collapsed": false,
    "deletable": true,
    "editable": true,
    "slideshow": {
     "slide_type": "slide"
    }
   },
   "outputs": [
    {
     "data": {
      "text/plain": [
       "<fluiddyn.util.paramcontainer.ParamContainer object at 0x7fb38444d7f0>\n",
       "\n",
       "<params>\n",
       "  {\"program\": \"fluidimage\", \"module\": \"fluidimage.topologies.piv\", \"class\":\n",
       "  \"TopologyPIV\"}\n",
       "  <series ind_start=\"1\" ind_step=\"2\" ind_stop=\"None\"\n",
       "          path=\"../../image_samples/Karman/Images\" strcouple=\"i:i+2\"/>  \n",
       "\n",
       "  <saving how=\"complete\" path=\"None\" postfix=\"piv_pres\"/>  \n",
       "\n",
       "  <piv0 coef_correl_no_displ=\"None\" delta_max=\"None\" delta_mean=\"None\"\n",
       "        method_correl=\"fftw\" method_subpix=\"2d_gaussian\" nsubpix=\"1\"\n",
       "        shape_crop_im0=\"32\" shape_crop_im1=\"None\">\n",
       "    <grid from=\"overlap\" overlap=\"0.5\"/>  \n",
       "\n",
       "  </piv0>\n",
       "\n",
       "  <mask/>  \n",
       "\n",
       "  <fix correl_min=\"0.2\" displacement_max=\"None\" threshold_diff_neighbour=\"10\"/>  \n",
       "\n",
       "  <multipass coeff_zoom=\"2\" number=\"2\" smoothing_coef=\"0.5\" subdom_size=\"200\"\n",
       "             threshold_tps=\"1.0\" use_tps=\"True\"/>  \n",
       "\n",
       "</params>"
      ]
     },
     "execution_count": 2,
     "metadata": {},
     "output_type": "execute_result"
    }
   ],
   "source": [
    "params"
   ]
  },
  {
   "cell_type": "code",
   "execution_count": 4,
   "metadata": {
    "collapsed": false,
    "deletable": true,
    "editable": true
   },
   "outputs": [],
   "source": [
    "print(params.series._get_formatted_docs())"
   ]
  }
 ],
 "metadata": {
  "celltoolbar": "Slideshow",
  "kernelspec": {
   "display_name": "Python 3",
   "language": "python",
   "name": "python3"
  },
  "language_info": {
   "codemirror_mode": {
    "name": "ipython",
    "version": 3
   },
   "file_extension": ".py",
   "mimetype": "text/x-python",
   "name": "python",
   "nbconvert_exporter": "python",
   "pygments_lexer": "ipython3",
   "version": "3.5.2"
  }
 },
 "nbformat": 4,
 "nbformat_minor": 2
}
